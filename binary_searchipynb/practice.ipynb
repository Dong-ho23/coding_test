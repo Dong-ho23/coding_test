{
 "cells": [
  {
   "attachments": {},
   "cell_type": "markdown",
   "metadata": {},
   "source": [
    "## 부품찾기\n",
    "* 난이도 : 1.5, 풀이시간: 30분, 시간 제한: 1초, 메모리 제한: 128MB\n",
    "* 동빈이네 전자 매장에는 부품이 N개 있다. 각 부품은 정수 형태의 고유한 번호가 있다. \n",
    "* 어느 날 손님이 M개 종류의 부품을 대량으로 구매하겠다며 당일 날 견적서를 요청했다. \n",
    "* 동빈이는 손님이 문의한 부품 M개 종류를 모두 확인해서 견적서를 작성해야 한다. \n",
    "* 가게 안에 손님이 문의한 부품이 모두 있는지 확인하는 프로그램을 작성해보자. \n",
    "* 예를 들어 가게의 부품이 총 5개일 때, 부품 번호가 다음과 같다고 하자. \n",
    "  * N = 5\n",
    "  * [8, 3, 7, 9, 2]\n",
    "* 손님은 총 3개의 부품이 있는지 확인 요청했는데 부품 번호는 다음과 같다. \n",
    "  * M = 3\n",
    "  * [5, 7, 9]\n",
    "*  이 때 손님이 요청한 번호의 순서대로 부품을 확인해 부품이 있으면 yes를, 없으면 no를 출력한다. 구분은 공백으로 한다.  \n",
    "*  입력 조건\n",
    "   *  첫째 줄에 정수 N이 주어진다. ( $ 1\\le N \\le 1,000,000 $)\n",
    "   *  둘째 줄에는 공백으로 구분하여 N개의 정수가 주어진다. 이때 정수는 1보다 크고 1,000,000이하이다. \n",
    "   *  셋째 줄에는 정수 M이 주어진다. ($ 1 \\le M \\le 100,000 $)\n",
    "   *  넷째 줄에는 공백으로 구분하여 M개의 정수가 주어진다. 이때 정수는 1보다 크고 1,000,000이하이다. \n",
    "*  출력 조건\n",
    "   *  첫째 줄에 공백으로 구분하여 각 부품이 존재하면 yes를, 없으면 no를 출력한다. \n",
    "*  입력 예시\n",
    "    ```\n",
    "    5\n",
    "    8 3 7 9 2\n",
    "    3\n",
    "    5 7 9\n",
    "    ```\n",
    "* 출력 예시\n",
    "    ```\n",
    "    no yes yes\n",
    "    ```\n",
    "    ```"
   ]
  },
  {
   "attachments": {},
   "cell_type": "markdown",
   "metadata": {},
   "source": [
    "## 문제 해설\n",
    "* 순차탐색으로 이 문제를 풀 경우에는 시간제한을 통과할 수 없다. \n",
    "* 이진탐색을 해야하고, 이진탐색을 하려면 일단 정렬을 해야한다. \n",
    "* 정렬되었다고 가정하고 이진탐색을 한다면 시간복잡도는\n",
    "  * N개의 원소를 가지는 리스트에서 이진탐색을 수행하면 그 시간복잡도는?\n",
    "    * O(logN)\n",
    "      * N이 백만일 때, logN의 값은? 대략 20\n",
    "  * M개를 이진탐색으로 찾는다면 시간복잡도는\n",
    "    * O(MlogN)\n",
    "    * 문제에서 M은 최대 10만이니 이진탐색으로 M개의 원소를 찾기위해 수행하는 연산의 수는 대략\n",
    "      * 100,000 * 20 = 2,000,000 \n",
    "      * 2백만이니, 이는 시간제한안에 충분히 해결할 수 있다. \n",
    "* 위는 N개의 원소가 정렬되었다고 가정했을 때 얘기고, 실제로는 정렬되어 있지 않다. \n",
    "* 일단은 N개의 원소를 정렬을 해야한다. \n",
    "  * 정렬의 시간복잡도는 O(NlogN), N이 백만이면 백만 곱하기 이십이되니 연산의 수는 대략 이천만.\n",
    "* 그래서 정렬하는 시간 + 탐색하는 시간은 \n",
    "  * O(NlogN) + O(MlogN) = O((M+N)xlogN) \n",
    "  * (10만+100만) * 20 = 2천2백만 정도.\n",
    "* 만약에, 순차탐색으로 문제를 풀게되면\n",
    "  * M개의 원소 각각에 대해 O(N)이 걸리게 되니 10만 * 100만 = 100000 x 1000000 = 100,000,000,000"
   ]
  },
  {
   "cell_type": "code",
   "execution_count": 1,
   "metadata": {},
   "outputs": [
    {
     "name": "stdout",
     "output_type": "stream",
     "text": [
      "no yes yes "
     ]
    }
   ],
   "source": [
    "def binary_search(data, target, start, end) :\n",
    "    # start가 end 이하인 동안 반복\n",
    "    while start <= end :\n",
    "        mid = (start+end)//2 # 또는 int((start+end)/2)\n",
    "        if data[mid] == target :\n",
    "            return mid\n",
    "        elif data[mid] > target : \n",
    "            end = mid - 1\n",
    "        else : \n",
    "            start = mid+1\n",
    "    return None\n",
    "\n",
    "# N(가게의 부품 개수) 입력\n",
    "n = int(input())\n",
    "# 가게에 있는 전체 부품 번호를 공백으로 구분하여 입력\n",
    "comps = list(map(int, input().split()))\n",
    "# 이진탐색을 위해 부품 번호를 정렬\n",
    "comps.sort()\n",
    "\n",
    "# M (손님이 요청한 부품 개수) 입력\n",
    "m = int(input())\n",
    "# 손님이 요청한 전체 부품 번호를 공백으로 구분하여 입력\n",
    "req_comps = list(map(int, input().split()))\n",
    "\n",
    "# 손님이 요청한 부품 번호를 하나씩 확인\n",
    "for c in req_comps:\n",
    "    # 해당 부품이 존재하는지 확인. 이진탐색을 이용\n",
    "    result = binary_search(comps, c, 0, n-1)  # 함수 binary_search는 c 부품이 comps 리스트에 있으면 그 부품의 인덱스를, 없으면 None 을 반환\n",
    "    if result != None :\n",
    "        print('yes', end=' ')\n",
    "    else :\n",
    "        print('no', end=' ')\n"
   ]
  },
  {
   "attachments": {},
   "cell_type": "markdown",
   "metadata": {},
   "source": [
    "# 계수정렬 (count sort)\n",
    "* 계수정렬의 시간 복잡도는 : O(N+K) => N은 원소의 수, K는 원소의 최대값\n",
    "* 계수정렬로 위의 문제를 풀면 시간 복잡도는\n",
    "  * 정렬을 위해 O(N+K), N=100만, K=100만 => 최대 대략 200만번의 연산 필요\n",
    "  * M개의 원소가 찾는데 시간 복잡도는 ? : 원소 하나당 O(1)이니, M이 10만이면 대략 10만번 연산 필요. \n",
    "  * 총 210만번의 연산 필요 "
   ]
  },
  {
   "cell_type": "code",
   "execution_count": 2,
   "metadata": {},
   "outputs": [
    {
     "name": "stdout",
     "output_type": "stream",
     "text": [
      "no yes yes "
     ]
    }
   ],
   "source": [
    "# 계수정렬을 이용해 부품찾기를 구현해보자.\n",
    "# N(가게의 부품 개수) 입력\n",
    "n = int(input())\n",
    "# 가게에 있는 전체 부품 번호를 공백으로 구분하여 입력 : 부품번호는 1이상 백만이하의 값\n",
    "comps = list(map(int, input().split()))\n",
    "max_value = max(comps)\n",
    "\n",
    "# 0부터 max_value 까지의 원소의 수를 저장하기 위한 리스트를 선언하고, 그 리스트에 각 원소 존재 여부를 저장(0 또는 1)\n",
    "count_list = [0] * (max_value+1) # max_value가 5라면 [0,0,0,0,0,0]\n",
    "\n",
    "# comps 리스트의 부품번호에 해당하는 count_list 인덱스에 1을 기록. \n",
    "for c in comps :  # 5, 2, 3\n",
    "    count_list[c] = 1 # [0, 0, 1, 1, 0, 1], 각 부품은 1개만 있을테니 부품이 나올때마다 1을 기록하면 된다. \n",
    "# 위의 반복문의 시간복잡도는 O(N), N은 원소의 개수\n",
    "# 위의 코드까지 실행되면 계수정렬 완료됨. \n",
    "\n",
    "# M(손님이 확인 요청한 부품 개수)를 입력받기\n",
    "m = int(input())\n",
    "# 손님이 요청한 전체 부품 번호를 공백으로 구분하여 입력\n",
    "req_comps = list(map(int, input().split()))\n",
    "\n",
    "# 손님이 확인 요청한 부품 번호를 하나씩 확인, 아래 for문의 시간복잡도는 O(K) => K는 원소의 최대값\n",
    "for c in req_comps:\n",
    "    if count_list[c] == 1 :\n",
    "        print('yes', end=' ')\n",
    "    else :\n",
    "        print('no', end=' ')"
   ]
  },
  {
   "cell_type": "code",
   "execution_count": 1,
   "metadata": {},
   "outputs": [
    {
     "name": "stdout",
     "output_type": "stream",
     "text": [
      "no yes yes "
     ]
    }
   ],
   "source": [
    "# N(가게의 부품 개수) 입력\n",
    "n = int(input())\n",
    "# 가게에 있는 전체 부품 번호를 공백으로 구분하여 입력 : 부품번호는 1이상 백만이하의 값\n",
    "# 집합 : 중복을 허용하지 않고, 순서가 없는 값의 컬렉션\n",
    "comps_set = set(map(int, input().split()))\n",
    "\n",
    "# M(손님이 확인 요청한 부품 개수)를 입력받기\n",
    "m = int(input())\n",
    "# 손님이 요청한 전체 부품 번호를 공백으로 구분하여 입력\n",
    "req_comps = list(map(int, input().split()))\n",
    "\n",
    "# 손님이 확인 요청한 부품 번호를 하나씩 확인, 아래 for문의 시간복잡도는 O(K) => K는 원소의 최대값\n",
    "for c in req_comps:\n",
    "    if c in comps_set :\n",
    "        print('yes', end=' ')\n",
    "    else :\n",
    "        print('no', end=' ')"
   ]
  },
  {
   "attachments": {},
   "cell_type": "markdown",
   "metadata": {},
   "source": [
    "### 떡볶이 떡 만들기 \n",
    "* 동빈이네 떡볶이 떡은 길이가 일정하지 않다. \n",
    "* 대신에 한 봉지 안에 들어가는 떡의 총 길이는 절단기로 잘라서 맞춰준다. \n",
    "* 절단기에 높이(H)를 지정하면 줄지어진 떡을 한 번에 절단한다. \n",
    "* 높이가 H보다 긴 떡은 H 위의 부분이 잘릴 것이고, 낮은 떡은 잘리지 않느다. \n",
    "* 예를 ㄷㄹ어 높이가 19, 14, 10, 17cm인 떡이 나란히 있고 절단기 높이를 15cm로 지정하면 자른 뒤 떡의 높이는 15, 14, 10, 15cm가 될 것이다. \n",
    "* 잘린 떡의 길이는 차례대로 4, 0, 0, 2cm이다. \n",
    "* 손님은 6cm만큼의 길이를 가져간다. \n",
    "* 손님이 왔을 때 요청한 총 길이가 M일 때 적어도 M만큼의 떡을 얻기 위해 절단기에 설정할 수 있는 높이의 최댓값을 구하는 프로그램을 작성하시오. \n",
    "* 입력조건\n",
    "  * 첫째 줄에 떡의 개수 N과 요청한 떡의 길이 M이 주어진다. ( $ 1\\le N \\le 1,000,000, 1 \\le M \\le 1,000,000,000)\n",
    "  * 둘째 줄에 떡의 개별 높이가 주어진다. 떡 높이의 총합은 항상 M 이상이므로, 손님은 필요한 양만큼 떡을 사갈 수 있다. \n",
    "  * 높이는 10억보다 작거나 같은 양의 정수 또는 0이다. \n",
    "* 출력 조건\n",
    "  * 적어도 M만큼의 떡을 집에 가져가기 위해 절단기에 설정할 수 있는 높이의 최댓값을 출력한다. \n",
    "* 입력 예시\n",
    "    ```\n",
    "    4 6\n",
    "    19 15 10 17\n",
    "    ```\n",
    "* 출력 예시\n",
    "  ```\n",
    "  15\n",
    "  ```\n"
   ]
  },
  {
   "cell_type": "code",
   "execution_count": 1,
   "metadata": {},
   "outputs": [
    {
     "name": "stdout",
     "output_type": "stream",
     "text": [
      "15\n"
     ]
    }
   ],
   "source": [
    "# 떡의 개수(N)와 요청한 떡의 길이(M)을 입력받기\n",
    "n, m = map(int, input().split())\n",
    "# 각 떡의 개별 높이 정보를 입력받기.\n",
    "heights_of_ddeok = list(map(int, input().split()))\n",
    "\n",
    "start = 0\n",
    "end = max(heights_of_ddeok)\n",
    "\n",
    "result = 0 # 잘려나간 떡의 총 길이의 합을 M 이상으로 만들 수 있는 절단기의 높이를 저장하는 변수\n",
    "while start <= end : \n",
    "    mid = (start+end)//2 # 절단기의 높이를 mid로 설정해서 떡을 잘라본다. \n",
    "    sum = 0\n",
    "    for height in heights_of_ddeok : # 각 떡에 대해서 \n",
    "        zzaturi = height - mid  # 그 떡을 자르고 남은 짜투리의 길이\n",
    "        if zzaturi > 0 : # 잘려 나간 짜투리가 있으면\n",
    "            sum += zzaturi  # sum에 그 길이를 누적시킨다. \n",
    "\n",
    "    if sum >= m :  # M 이상을 얻을 수 있다면 이 절단기의 높이를 result에 저장하고, 절단기의 높이를 높여 M 이상의 값을 얻을 수 있는지 확인해보자. \n",
    "        result = mid\n",
    "        start = mid + 1\n",
    "    else : # M 이상을 얻을 수 없다는 의미이니, 절단기의 높이를 낮춰서 다시 시도해 본다.  \n",
    "        end = mid - 1 \n",
    "    \n",
    "# 정답 출력\n",
    "print(result)"
   ]
  }
 ],
 "metadata": {
  "kernelspec": {
   "display_name": "Python 3",
   "language": "python",
   "name": "python3"
  },
  "language_info": {
   "codemirror_mode": {
    "name": "ipython",
    "version": 3
   },
   "file_extension": ".py",
   "mimetype": "text/x-python",
   "name": "python",
   "nbconvert_exporter": "python",
   "pygments_lexer": "ipython3",
   "version": "3.10.11"
  },
  "orig_nbformat": 4
 },
 "nbformat": 4,
 "nbformat_minor": 2
}
