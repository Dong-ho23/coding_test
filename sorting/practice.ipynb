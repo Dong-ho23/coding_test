{
 "cells": [
  {
   "attachments": {},
   "cell_type": "markdown",
   "metadata": {},
   "source": [
    "### 주어진 수열을 내림차순으로 정렬하는 프로그램\n",
    "* 입력 예시\n",
    "  ```\n",
    "  3\n",
    "  15\n",
    "  27\n",
    "  12\n",
    "  ```\n",
    "* 출력 예시\n",
    " ```\n",
    "    27 15 12\n",
    " ```\n",
    "  \n",
    "* 문제 설명\n",
    "  * 수의 개수는 500개 이하이고, 모든 수는 1이상 100,000 이하\n",
    "  * 어떤 정렬 알고리즘을 사용해도 문제해결할 수 있다. \n",
    "  * 파이썬의 기본 정렬 라이브러리를 이용하는 것이 효과적"
   ]
  },
  {
   "cell_type": "code",
   "execution_count": 5,
   "metadata": {},
   "outputs": [
    {
     "name": "stdout",
     "output_type": "stream",
     "text": [
      "27 15 12 "
     ]
    }
   ],
   "source": [
    "# 입력 데이터의 갯수 n을 입력받기\n",
    "n = int(input())\n",
    "\n",
    "# n개의 정수를 입력받아23\n",
    "# 32리스트에 저장\n",
    "data = []\n",
    "for i in range(n) :\n",
    "    data.append(int(input()))\n",
    "\n",
    "# data.sort(reverse=True) # in-place sort : 즉 원본이 변경된다는 의미.\n",
    "sorted_data = sorted(data, reverse=True) # not in-place sort\n",
    "\n",
    "#for i in data:\n",
    "for i in sorted_data:\n",
    "    print(i, end=' ')\n"
   ]
  },
  {
   "attachments": {},
   "cell_type": "markdown",
   "metadata": {},
   "source": [
    "### 성적이 낮은 순서로 학생 출력하기\n",
    "* 입력 예시\n",
    "    ```\n",
    "    2\n",
    "    홍길동 95\n",
    "    이순신 77\n",
    "    ```\n",
    "* 출력 예시\n",
    "    ```\n",
    "    이순신 홍길동\n",
    "    ```\n",
    "* 문제 설명\n",
    "* 학생의 수가 최대 100,000개까지 입력될 수 있다. \n",
    "* 따라서 최악의 O(NlogN)을 보장하는 알고리즘을 이용하거나 O(N+K)를 보장하는 계수 정렬을 이용하면 된다. \n",
    "* 입력된는 데이터는 학생이 이름과 점수, 정렬은 점수를 기준으로, 출력은 학생의 이름만.\n",
    "* 입력되는 학생 정보를 (점수, 이름)으로 묶은 후에 점수를 기준으로 정렬을 수행해야 한다. "
   ]
  },
  {
   "cell_type": "code",
   "execution_count": 12,
   "metadata": {},
   "outputs": [
    {
     "name": "stdout",
     "output_type": "stream",
     "text": [
      "이수신 김사부 홍길동 "
     ]
    }
   ],
   "source": [
    "# 입력 데이터의 수 n 입력받기\n",
    "n = int(input())\n",
    "\n",
    "# n명의 학생 정보를 입력받아 리스트에 저장\n",
    "data = []\n",
    "for i in range(n) :\n",
    "    input_data = input().split()\n",
    "    data.append((input_data[0], int(input_data[1])))\n",
    "\n",
    "# print(type(input_data))\n",
    "# 원소가 튜플인 경우에는 그 튜플의 첫번째 아이템 값을 기준으로 오름차순 정렬\n",
    "#sorted_data = sorted(data)\n",
    "\n",
    "# 홍길동 95\n",
    "# 이순신 77\n",
    "# 김사부 80\n",
    "sorted_data = sorted(data, key=lambda x: x[1])\n",
    "\n",
    "for student in sorted_data :\n",
    "    print(student[0], end=' ')\n"
   ]
  },
  {
   "cell_type": "code",
   "execution_count": 11,
   "metadata": {},
   "outputs": [
    {
     "name": "stdout",
     "output_type": "stream",
     "text": [
      "30\n",
      "30\n",
      "220\n"
     ]
    }
   ],
   "source": [
    "def multiply(a, b) :\n",
    "    return a*b\n",
    "x = lambda a, b : a*b\n",
    "\n",
    "print(multiply(5, 6))\n",
    "print(x(5,6))\n",
    "\n",
    "def passingLogic2aFunction(x, a, b) :\n",
    "    return x(a,b)\n",
    "\n",
    "result = passingLogic2aFunction(lambda a, b : a*b+b, 10, 20)\n",
    "print(result)"
   ]
  },
  {
   "cell_type": "code",
   "execution_count": 16,
   "metadata": {},
   "outputs": [
    {
     "name": "stdout",
     "output_type": "stream",
     "text": [
      "95\n"
     ]
    }
   ],
   "source": [
    "st1 = ('홍기동', 95, '홍길동', 74)\n",
    "# st1[0] = '이순신'\n",
    "print(st1[1])"
   ]
  },
  {
   "attachments": {},
   "cell_type": "markdown",
   "metadata": {},
   "source": [
    "* n = 5, k = 3\n",
    "* A: [4, 5, 5, 3, 6] => [3, 4, 5, 5, 6] => [5, 4, 5, 5,6] => 25\n",
    "* B: [3, 2, 1, 4, 5] => [5, 4, 3, 2, 1]\n",
    "* 입력 예시\n",
    "    ```\n",
    "    5 3\n",
    "    1 2 5 4 3\n",
    "    5 5 6 6 5\n",
    "    ```\n",
    "* 출력 예시 \n",
    "    ```\n",
    "    26\n",
    "    ```"
   ]
  },
  {
   "cell_type": "code",
   "execution_count": 18,
   "metadata": {},
   "outputs": [
    {
     "name": "stdout",
     "output_type": "stream",
     "text": [
      "25\n"
     ]
    }
   ],
   "source": [
    "# 원소의 수 n과 바꿔치기 횟수 k를 입력받자\n",
    "n, k = map(int, input().split())\n",
    "\n",
    "# 배열 a의 원소들을 입력받자\n",
    "a = list(map(int, input().split()))\n",
    "\n",
    "# 배열 b의 원소들을 입력받자\n",
    "b = list(map(int, input().split()))\n",
    "\n",
    "# a의 원소들을 오름차순으로 정렬\n",
    "a.sort()\n",
    "\n",
    "# b의 원소들을 내림차순으로 정렬 \n",
    "b.sort(reverse=True)\n",
    "\n",
    "# a, b 배열의 0번 인덱스부터 k-1 인덱스까지의 대응되는 원소들 각각을 비교해서\n",
    "# b의 원소가 크면 교환하고 그렇지 않으면 교환작업을 종료\n",
    "for i in range(k) :\n",
    "    if a[i] < b[i] :\n",
    "        a[i], b[i] = b[i], a[i]\n",
    "    else :\n",
    "        break\n",
    "\n",
    "#  a의 원소들의 합을 구해 출력하면 됨. \n",
    "result = 0\n",
    "for val in a :\n",
    "    result += val\n",
    "\n",
    "print(result)"
   ]
  }
 ],
 "metadata": {
  "kernelspec": {
   "display_name": "Python 3",
   "language": "python",
   "name": "python3"
  },
  "language_info": {
   "codemirror_mode": {
    "name": "ipython",
    "version": 3
   },
   "file_extension": ".py",
   "mimetype": "text/x-python",
   "name": "python",
   "nbconvert_exporter": "python",
   "pygments_lexer": "ipython3",
   "version": "3.10.11"
  },
  "orig_nbformat": 4
 },
 "nbformat": 4,
 "nbformat_minor": 2
}
