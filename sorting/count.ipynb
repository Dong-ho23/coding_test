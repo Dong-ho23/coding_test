{
 "cells": [
  {
   "cell_type": "code",
   "execution_count": 6,
   "metadata": {},
   "outputs": [
    {
     "name": "stdout",
     "output_type": "stream",
     "text": [
      "cnt:10\n",
      "0 0 1 1 2 2 3 4 5 5 6 7 8 9 9 "
     ]
    }
   ],
   "source": [
    "# 계수 정렬 (Count sort)\n",
    "data = [7, 5, 9, 0, 3, 1, 6, 2, 9, 1, 4, 8, 0, 5, 2]\n",
    "\n",
    "# 정렬할 데이터가 출현 횟수를 카운트하기 위한 배열을 선언하고, 각 원소를 0으로 초기화\n",
    "cnt = max(data)+1\n",
    "print(\"cnt:\" + str(cnt))\n",
    "cnt_arr = [0] * cnt # [0, 0, 0, ..., 0] : 인덱스는 0부터 cnt-1까지\n",
    "\n",
    "# 정렬할 데이터의 출현 횟수를 cnt_arr에 기록. \n",
    "# 즉 val 값이 나올 때마다 cnt_arr[val] += 1 을 수행\n",
    "for val in data :\n",
    "    cnt_arr[val] += 1\n",
    "\n",
    "for i in range(len(cnt_arr)) :\n",
    "    for j in range(cnt_arr[i]) : # cnt_arr[0], cnt_arr[1], ... 에 저장된 값만큼\n",
    "                                 # i를 출력\n",
    "        print(i, end=' ')"
   ]
  },
  {
   "cell_type": "code",
   "execution_count": 5,
   "metadata": {},
   "outputs": [
    {
     "name": "stdout",
     "output_type": "stream",
     "text": [
      "계수 정렬에 소요된 시간: 0.03899836540222168\n"
     ]
    }
   ],
   "source": [
    "import random, time\n",
    "\n",
    "N = 1000000 # 백만개\n",
    "\n",
    "arr = []\n",
    "for i in range(N) :\n",
    "    arr.append(random.randint(1, 100000))\n",
    "\n",
    "def count_sort(data) :\n",
    "    # 정렬할 데이터가 출현 횟수를 카운트하기 위한 배열을 선언하고, 각 원소를 0으로 초기화\n",
    "    cnt = max(data)+1\n",
    "    cnt_arr = [0] * cnt # [0, 0, 0, ..., 0] : 인덱스는 0부터 cnt까지\n",
    "\n",
    "    # 정렬할 데이터의 출현 횟수를 cnt_arr에 기록. \n",
    "    # 즉 val 값이 나올 때마다 cnt_arr[val] += 1 을 수행\n",
    "    for val in data :\n",
    "        cnt_arr[val] += 1    \n",
    "\n",
    "start_time = time.time()\n",
    "\n",
    "# quick_sort(arr, 0, N-1)\n",
    "count_sort(arr)\n",
    "\n",
    "end_time = time.time()\n",
    "\n",
    "print(\"계수 정렬에 소요된 시간: {}\".format((end_time-start_time)))\n",
    "\n"
   ]
  },
  {
   "cell_type": "code",
   "execution_count": 1,
   "metadata": {},
   "outputs": [
    {
     "name": "stdout",
     "output_type": "stream",
     "text": [
      "선택 정렬 성능 측정: 2.894341468811035\n"
     ]
    }
   ],
   "source": [
    "from random import randint\n",
    "import time\n",
    "# 배열에 10,000개의 정수를 삽입\n",
    "array = []\n",
    "for _ in range(10000):\n",
    "    # 1부터 100 사이의 랜덤한 정수\n",
    "    array.append(randint(1, 100))\n",
    "\n",
    "# 선택 정렬 프로그램 성능 측정\n",
    "start_time = time.time()\n",
    "# 선택 정렬 프로그램 소스코드\n",
    "for i in range(len(array)):\n",
    "        min_index = i # 가장 작은 원소의 인덱스\n",
    "        for j in range(i + 1, len(array)):\n",
    "            if array[min_index] > array[j]:\n",
    "                min_index = j\n",
    "        array[i], array[min_index] = array[min_index], array[i]\n",
    "# 측정 종료\n",
    "end_time = time.time()\n",
    "# 수행 시간 출력\n",
    "print(\"선택 정렬 성능 측정:\", end_time - start_time)"
   ]
  },
  {
   "cell_type": "code",
   "execution_count": 2,
   "metadata": {},
   "outputs": [
    {
     "name": "stdout",
     "output_type": "stream",
     "text": [
      "기본 정렬 라이브러리 성능 측정: 0.0010013580322265625\n"
     ]
    }
   ],
   "source": [
    "# 배열을 다시 무작위 데이터로 초기화\n",
    "array = []\n",
    "for _ in range(10000):\n",
    "# 1부터 100 사이의 랜덤한 정수\n",
    "    array.append(randint(1, 100))\n",
    "# 기본 정렬 라이브러리 성능 측정\n",
    "start_time = time.time()\n",
    "# 기본 정렬 라이브러리 사용\n",
    "array.sort()\n",
    "# 측정 종료\n",
    "end_time = time.time()\n",
    "# 수행 시간 출력\n",
    "print(\"기본 정렬 라이브러리 성능 측정:\", end_time - start_time)\n"
   ]
  },
  {
   "cell_type": "code",
   "execution_count": null,
   "metadata": {},
   "outputs": [],
   "source": []
  }
 ],
 "metadata": {
  "kernelspec": {
   "display_name": "Python 3",
   "language": "python",
   "name": "python3"
  },
  "language_info": {
   "codemirror_mode": {
    "name": "ipython",
    "version": 3
   },
   "file_extension": ".py",
   "mimetype": "text/x-python",
   "name": "python",
   "nbconvert_exporter": "python",
   "pygments_lexer": "ipython3",
   "version": "3.10.11"
  },
  "orig_nbformat": 4
 },
 "nbformat": 4,
 "nbformat_minor": 2
}
