{
 "cells": [
  {
   "cell_type": "code",
   "execution_count": 1,
   "metadata": {},
   "outputs": [
    {
     "name": "stdout",
     "output_type": "stream",
     "text": [
      "[0, 1, 2, 3, 4, 5, 6, 7, 8, 9]\n"
     ]
    }
   ],
   "source": [
    "# 정렬할 데이터\n",
    "data = [7, 5, 9, 0, 3, 1, 6, 2, 4, 8]\n",
    "\n",
    "# index 1부터 마지막 원소까지 각 원소가 들어갈 위치를 찾기 위해 아래를 반복, \n",
    "# 즉, i를 range(1, len(data)) 변화시키면서 반복. 정렬되지 않은 리스트의 원소.\n",
    "# range(start, end, [step])는 start, start+1, ..., end-1까지를 의미.\n",
    "    # index 0부터 i-1까지의 원소는 이미 정렬된 원소이다.\n",
    "    # 따라서 j는 0 ~ (i-1)까지 변화시키면서, i의 원소와 j의 원소를 비교해서\n",
    "    # i의 원소가 더 작으면 j의 원소와 교환하는 작업을 반복. \n",
    "for i in range(1, len(data)) :\n",
    "    for j in range(i, 0, -1) :  #i = 1 -> j=1, i=2 -> j=2,1, i=3 -> j=3,2,1, ...\n",
    "        if data[j] < data[j-1] : \n",
    "            data[j], data[j-1] = data[j-1], data[j]\n",
    "    print(data)\n",
    "print(data)\n"
   ]
  }
 ],
 "metadata": {
  "kernelspec": {
   "display_name": "Python 3",
   "language": "python",
   "name": "python3"
  },
  "language_info": {
   "codemirror_mode": {
    "name": "ipython",
    "version": 3
   },
   "file_extension": ".py",
   "mimetype": "text/x-python",
   "name": "python",
   "nbconvert_exporter": "python",
   "pygments_lexer": "ipython3",
   "version": "3.10.11"
  },
  "orig_nbformat": 4
 },
 "nbformat": 4,
 "nbformat_minor": 2
}
