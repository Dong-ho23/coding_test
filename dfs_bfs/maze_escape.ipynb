{
 "cells": [
  {
   "attachments": {},
   "cell_type": "markdown",
   "metadata": {},
   "source": [
    "### 미로 탈출\n",
    "* 시작 위치는 (1,1), 미로의 출구는 (n, m)\n",
    "* 괴물이 있는 부분은 0, 괴물이 없는 부분은 1로 표시됨\n",
    "* 미로는 반드시 탈출할 수 있는 형태로 제시됨\n",
    "* 탈출하기 위해 움직여햐 하는 최소 칸의 개수를 구하라. \n",
    "* 칸을 셀 때는 시작 칸과 마지막 칸을 모두 포함해서 계산해야 한다. \n",
    "* 입력 조건\n",
    "  * 첫째 줄에 두 정수 N, M($ 4\\le N, M \\le 200$)이 주어진다. \n",
    "  * 다음 N개의 줄에는 M개의 정수(0 혹은 1)로 미로의 정보가 주어진다. \n",
    "  * 각각의 수들은 공백 없이 붙어서 입력으로 제시된다. \n",
    "  * 또한 시작 칸과 마지막 칸은 항상 1이다. \n",
    "* 입력 예시\n",
    "    ```\n",
    "    5 6\n",
    "    101010\n",
    "    111111\n",
    "    000001\n",
    "    111111\n",
    "    111111\n",
    "    ```\n",
    "* 출력 예시\n",
    "    ```\n",
    "    10\n",
    "    ```\n",
    "\n"
   ]
  },
  {
   "cell_type": "code",
   "execution_count": 2,
   "metadata": {},
   "outputs": [
    {
     "name": "stdout",
     "output_type": "stream",
     "text": [
      "10\n"
     ]
    }
   ],
   "source": [
    "from collections import deque\n",
    "# n, m\n",
    "n, m = map(int, input().split())\n",
    "\n",
    "# 2차원의 미로 정보를 입력받기\n",
    "maze = []\n",
    "for i in range(n):\n",
    "    maze.append(list(map(int, input()))) # [[0,1,0,1],[...],...[...]]\n",
    "\n",
    "# 이동할 방향 (상,하,좌,우) 찾기 위한 각 방향의 델타 값을 리스트로 저장\n",
    "d_row = [-1, 1, 0, 0]\n",
    "d_col = [0, 0, -1, 1]\n",
    "\n",
    "# 미로 탈출을 위한 너비우선탐색을 구현하는 함수 정의\n",
    "# 시작 행과 열을 입력 받는다. 시작 행:0, 시작 열:0\n",
    "def bfs(row, col) : \n",
    "    # 큐(queue)를 deque 라이브러리를 사용해 구현\n",
    "    queue = deque([(row, col)])\n",
    "\n",
    "    # 큐가 empty가 될 때까지 너비우선 탐색을 반복하면서 그 좌표에 이르는 \n",
    "    # 거리 값을 갱신하자. \n",
    "    while queue :\n",
    "        r, c = queue.popleft()\n",
    "        # 좌표 (r,c)를 기준으로 상하좌우 방향으로 움직일 수 있는지 검사\n",
    "        # 움직일 수 있으면 그 좌표의 거리 값을 갱신하고 큐에 삽입\n",
    "        for i in range(4) : # i는 0, 1, 2, 3까지 반복한다. \n",
    "            nr = r + d_row[i]\n",
    "            nc = c + d_col[i]\n",
    "            # nr, nc가 미로를 벗어나는 좌표라면 continue 해서 다음 방향 검토\n",
    "            if nr < 0 or nr >= n or nc < 0 or nc >= m :\n",
    "                continue  \n",
    "            if maze[nr][nc] == 1 : \n",
    "                maze[nr][nc] = maze[r][c] + 1\n",
    "                queue.append((nr, nc))\n",
    "bfs(0,0)\n",
    "print(maze[n-1][m-1])"
   ]
  }
 ],
 "metadata": {
  "kernelspec": {
   "display_name": "Python 3",
   "language": "python",
   "name": "python3"
  },
  "language_info": {
   "codemirror_mode": {
    "name": "ipython",
    "version": 3
   },
   "file_extension": ".py",
   "mimetype": "text/x-python",
   "name": "python",
   "nbconvert_exporter": "python",
   "pygments_lexer": "ipython3",
   "version": "3.10.11"
  },
  "orig_nbformat": 4
 },
 "nbformat": 4,
 "nbformat_minor": 2
}
