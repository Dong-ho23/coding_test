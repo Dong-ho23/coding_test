{
 "cells": [
  {
   "cell_type": "code",
   "execution_count": 7,
   "metadata": {},
   "outputs": [
    {
     "name": "stdout",
     "output_type": "stream",
     "text": [
      "[5, 2]\n",
      "[3, 2]\n",
      "[5, 3]\n",
      "[1, 3, 2, 5]\n",
      "[5, 2, 3, 1]\n"
     ]
    }
   ],
   "source": [
    "stack = []\n",
    "# 삽입(5) - 삽입(2) - 삽입(3) - 삽입(7) - 삭제() - 삽입(1) - 삽입(4) - 삭제()\n",
    "stack.append(5)\n",
    "stack.append(2)\n",
    "stack.append(3)\n",
    "stack.append(7)\n",
    "stack.pop()\n",
    "stack.append(1)\n",
    "stack.append(4)\n",
    "stack.pop()\n",
    "print(stack[0:2])\n",
    "print(stack[2:0:-1])\n",
    "print(stack[0:-1:2])\n",
    "print(stack[::-1]) # 최상단 원소부터 출력 , [from:to:step]\n",
    "print(stack) # 최하단 원소부터 출력"
   ]
  },
  {
   "cell_type": "code",
   "execution_count": 8,
   "metadata": {},
   "outputs": [
    {
     "name": "stdout",
     "output_type": "stream",
     "text": [
      "deque([3, 7, 1, 4])\n",
      "deque([4, 1, 7, 3])\n"
     ]
    }
   ],
   "source": [
    "from collections import deque \n",
    "# 큐(Queue) 구현을 위해 deque 라이브러리 사용\n",
    "queue = deque()\n",
    "# 삽입(5) - 삽입(2) - 삽입(3) - 삽입(7) - 삭제() - 삽입(1) - 삽입(4) - 삭제()\n",
    "queue.append(5)\n",
    "queue.append(2)\n",
    "queue.append(3)\n",
    "queue.append(7)\n",
    "queue.popleft()\n",
    "queue.append(1)\n",
    "queue.append(4)\n",
    "queue.popleft()\n",
    "print(queue) # 먼저 들어온 순서대로 출력\n",
    "queue.reverse() # 역순으로 바꾸기\n",
    "print(queue) # 나중에 들어온 원소부터 출력"
   ]
  },
  {
   "cell_type": "code",
   "execution_count": 1,
   "metadata": {},
   "outputs": [
    {
     "name": "stdout",
     "output_type": "stream",
     "text": [
      "recursive function 1\n",
      "recursive function 2\n",
      "recursive function 3\n",
      "recursive function 4\n",
      "recursive function 5\n"
     ]
    }
   ],
   "source": [
    "def recursive_function(n) :\n",
    "    print(\"recursive function\", n)\n",
    "    # escape condition check 가 반드시 자기자신을 호출하는 코드 이전에 와야 한다. \n",
    "    if n == 5 :\n",
    "        return\n",
    "    recursive_function(n+1)\n",
    "\n",
    "recursive_function(1)"
   ]
  },
  {
   "attachments": {},
   "cell_type": "markdown",
   "metadata": {},
   "source": [
    "# factorial \n",
    "* n! = n * (n - 1) *... * 1"
   ]
  },
  {
   "cell_type": "code",
   "execution_count": 2,
   "metadata": {},
   "outputs": [
    {
     "name": "stdout",
     "output_type": "stream",
     "text": [
      "120\n"
     ]
    }
   ],
   "source": [
    "def factorial(n):\n",
    "    result = 1\n",
    "    for i in range(1,n+1):\n",
    "        result *= i\n",
    "    \n",
    "    return result\n",
    "\n",
    "print(factorial(5))"
   ]
  },
  {
   "attachments": {},
   "cell_type": "markdown",
   "metadata": {},
   "source": [
    "# Factorial\n",
    "* n! = n * (n-1) *... * 1\n",
    "* n! = n * (n-1)!\n",
    "  \n",
    "* factorial(n) = n * factorial(n-1)\n",
    "* factorial(n-1) = n-1 * factorial(n-2)\n",
    "* ...\n",
    "* factorial(2) = 2 * factorial(1)\n",
    "* factorial(1) = 1\n"
   ]
  },
  {
   "cell_type": "code",
   "execution_count": 3,
   "metadata": {},
   "outputs": [
    {
     "data": {
      "text/plain": [
       "120"
      ]
     },
     "execution_count": 3,
     "metadata": {},
     "output_type": "execute_result"
    }
   ],
   "source": [
    "def factorial(n):\n",
    "    if n <= 1 :\n",
    "        return 1\n",
    "    return n * factorial(n-1)\n",
    "\n",
    "factorial(5)"
   ]
  },
  {
   "attachments": {},
   "cell_type": "markdown",
   "metadata": {},
   "source": [
    "* 프로그래밍에서 그래프는 크게 2가지 방식으로 표현할 수 있다. 코딩 테스트에서는 이 두 방식 모두 필요하니 두 개념에 대해 바르게 알도록 하자.\n",
    "  * 인접 행렬(Adjacency Matrix) : 2차원 배열로 그래프의 연결 관계를 표현하는 방식\n",
    "    * 2차원 배열(파이썬에서는 2차원 리스트)에 각 노드가 연결된 형태를 기록하는 방식\n",
    "  * 인접 리스트(Adjacency List) : 리스트로 그래프의 연결 방식을 표현하는 방식\n",
    "\n",
    "\n",
    "```\n",
    "        0\n",
    "     /    \\\n",
    " (7)/      \\ (5)\n",
    "   1        2\n",
    "```"
   ]
  },
  {
   "cell_type": "code",
   "execution_count": 1,
   "metadata": {},
   "outputs": [
    {
     "name": "stdout",
     "output_type": "stream",
     "text": [
      "[[0, 7, 5], [7, 0, 999999999], [5, 999999999, 0]]\n"
     ]
    }
   ],
   "source": [
    "# 인접 행렬(Adjacency Matrix)\n",
    "INF = 999999999 # 노드 사이의 웨이트 값으로 나올 수 없는 무한 값\n",
    "# 2차원 리스트를 이용해 인접 행렬로 위의 그래프를 표현\n",
    "graph = [\n",
    "    [0, 7, 5],\n",
    "    [7, 0, INF],\n",
    "    [5, INF, 0]\n",
    "]\n",
    "\n",
    "print(graph)\n"
   ]
  },
  {
   "cell_type": "code",
   "execution_count": 2,
   "metadata": {},
   "outputs": [
    {
     "name": "stdout",
     "output_type": "stream",
     "text": [
      "[[(1, 7), (2, 5)], [(0, 7)], [(0, 5)]]\n"
     ]
    }
   ],
   "source": [
    "# 인접 리스(Adjacency List)\n",
    "\n",
    "# 인접 리스트로 위의 그래프를 표현하면 아래와 같다. \n",
    "# 노드가 3개이니 행이(row)가 3개인 2차원 리스트로 인접 리스트를 표현\n",
    "graph = [[] for _ in range(3)] # [[], [], []]\n",
    "\n",
    "# 노드 0에 연결된 노드 정보 저장 (노드, 거리)\n",
    "graph[0].append((1, 7)) # [[(1,7)], [], []]\n",
    "graph[0].append((2, 5)) # [[(1,7), (2,5)], [], []]\n",
    "\n",
    "# 노드 1에 연결된 노드 정보 저장 (노드, 거리)\n",
    "graph[1].append((0, 7)) # [[(1,7), (2,5)], [(0,7)], []]\n",
    "\n",
    "# 노드 2에 연결된 노드 정보 저장 (노드, 거리)\n",
    "graph[2].append((0, 5)) # [[(1,7), (2,5)], [(0,7)], [(0,5)]]\n",
    "\n",
    "print(graph) "
   ]
  },
  {
   "cell_type": "code",
   "execution_count": 4,
   "metadata": {},
   "outputs": [
    {
     "name": "stdout",
     "output_type": "stream",
     "text": [
      "1 2 7 6 8 3 4 5 "
     ]
    }
   ],
   "source": [
    "# 인접 리스트로 표현한 그래프\n",
    "graph = [\n",
    "    [], \n",
    "    [2, 3, 8], # 만약 노드들간의 연결에 weight가 있다면 -> [(2, 5), (3, 4), (8, 2)]\n",
    "    [1, 7], \n",
    "    [1, 4, 5],\n",
    "    [3, 5],\n",
    "    [3, 4], \n",
    "    [7],\n",
    "    [2, 6, 8],\n",
    "    [1, 7]\n",
    "]\n",
    "\n",
    "# DFS (깊이우선탐색)에서는 이미 방문한 노드인지를 확인해야 하니, 각 노드가 이미 방문되었는지\n",
    "# 여부를 저장하느 리스트 visited를 False로 초기화한다. \n",
    "visited = [False] * len(graph) # [False, False, False, False, False, False, False, False, False, False]\n",
    "\n",
    "# dfs 함수를 재귀함수로 구현\n",
    "def dfs(graph, start) :\n",
    "    # start 노드를 방문 처리\n",
    "    global visited\n",
    "    visited[start] = True\n",
    "    print(start, end = \" \")\n",
    "\n",
    "    for node in graph[start] :\n",
    "        if visited[node] == False :\n",
    "            dfs(graph, node)\n",
    "\n",
    "\n",
    "dfs(graph, 1)"
   ]
  },
  {
   "cell_type": "code",
   "execution_count": 3,
   "metadata": {},
   "outputs": [
    {
     "name": "stdout",
     "output_type": "stream",
     "text": [
      "1 2 5 6 3 7 8 4 9 "
     ]
    }
   ],
   "source": [
    "# 인접 리스트로 표현한 그래프\n",
    "# graph = [\n",
    "#     [], \n",
    "#     [2, 3, 8], # 만약 노드들간의 연결에 weight가 있다면 -> [(2, 5), (3, 4), (8, 2)]\n",
    "#     [1, 7], \n",
    "#     [1, 4, 5],\n",
    "#     [3, 5],\n",
    "#     [3, 4], \n",
    "#     [7],\n",
    "#     [2, 6, 8],\n",
    "#     [1, 7]\n",
    "# ]\n",
    "\n",
    "graph =[\n",
    "    [], \n",
    "    [2,3,4],\n",
    "    [5,6],\n",
    "    [7,8],\n",
    "    [9],\n",
    "    [2],\n",
    "    [2],\n",
    "    [3],\n",
    "    [3],\n",
    "    [4]\n",
    "]\n",
    "\n",
    "# DFS (깊이우선탐색)에서는 이미 방문한 노드인지를 확인해야 하니, 각 노드가 이미 방문되었는지\n",
    "# 여부를 저장하느 리스트 visited를 False로 초기화한다. \n",
    "visited = [False] * len(graph) \n",
    "\n",
    "# stack을 이용해 구현한 dfs 함수\n",
    "def dfs(graph, start) :\n",
    "    # 스택 초기화\n",
    "    stack = []\n",
    "\n",
    "    # start 노드를 방문처리\n",
    "    visited[start] = True\n",
    "    print(start, end=\" \")\n",
    "\n",
    "    stack.append(start)\n",
    "\n",
    "    # 1. 탐색 시작 노드를 스택에 삽입하고 방문 처리를 한다. (위에서 했다. )\n",
    "\n",
    "    # 2. 스택의 최상단 노드에 방문하지 않은 인접 노드가 있으면 그 인접 노드를 스택에 넣고 방문 처리를 한다.\n",
    "    #       방문하지 않은 인접 노드가 없으면 스택에서 최상단 노드를 꺼낸다. \n",
    "    # 3. 2번의 과정을 스택이 empty가 될 때까지 반복한다. \n",
    "\n",
    "    while stack :\n",
    "        top_node = stack[-1]\n",
    "        # top_node의 인접노드들은 graph[top_node]에 저장되어 있다. \n",
    "        for adjacent_node in graph[top_node] :\n",
    "            if not visited[adjacent_node] :\n",
    "                stack.append(adjacent_node)\n",
    "                visited[adjacent_node] = True\n",
    "                print(adjacent_node, end=\" \")\n",
    "                break\n",
    "        # top_node의 모든 인접 노드를 방문했는지 확인한다. \n",
    "        # 만약, 모든 인접 노드를 방문했다면 top_node를 스택에서 꺼낸다. \n",
    "        # 위의 for문을 빠져나와 실행흐림이 여기까지 왔는데도 불구하고\n",
    "        # stack의 top이 여전히 top_node라면, top_node의 인접노드들은 모두 방문되었다는 의미다. \n",
    "        if stack[-1] == top_node : \n",
    "            stack.pop()\n",
    "\n",
    "dfs(graph, 1)      "
   ]
  },
  {
   "attachments": {},
   "cell_type": "markdown",
   "metadata": {},
   "source": [
    "#### 너비우선탐색(BFS, Breadth-First Search)\n",
    "* 알고리즘\n",
    "  * 1. 탐색 시작 노드를 큐에 삽입하고 방문처리한다. \n",
    "  * 2. 큐에서 노드를 꺼낸 뒤에 해당 노드의 인접 노드 중에서 방문하지 않은 노드를 모두 큐에 삽입하고 방문처리한다. \n",
    "  * 3. 더 이상 2번의 과정을 수행할 수 없을 때까지 반복한다. "
   ]
  },
  {
   "attachments": {},
   "cell_type": "markdown",
   "metadata": {},
   "source": [
    "```\n",
    "              1-------2\n",
    "            /  \\       \\\n",
    "           /    \\       7  \n",
    "          3      \\     / \\\n",
    "         / \\      \\   /   \\\n",
    "        4---5       8      6\n",
    "```"
   ]
  },
  {
   "cell_type": "code",
   "execution_count": 2,
   "metadata": {},
   "outputs": [
    {
     "name": "stdout",
     "output_type": "stream",
     "text": [
      "1 2 3 4 5 6 7 8 9 "
     ]
    }
   ],
   "source": [
    "# 위의 그래프를 인접 리스트 방식으로 나타내면 다음과 같다. \n",
    "# graph = [\n",
    "#     [], \n",
    "#     [2,3,8],\n",
    "#     [1,7],\n",
    "#     [1,4,5],\n",
    "#     [3,5],\n",
    "#     [3,4],\n",
    "#     [7],\n",
    "#     [2,6,8],\n",
    "#     [1,7]\n",
    "# ]\n",
    "\n",
    "graph =[\n",
    "    [], \n",
    "    [2,3,4],\n",
    "    [5,6],\n",
    "    [7,8],\n",
    "    [9],\n",
    "    [2],\n",
    "    [2],\n",
    "    [3],\n",
    "    [3],\n",
    "    [4]\n",
    "]\n",
    "#노드의 방문 여부를 저장하는 리스트 visited를 초기화 하자. \n",
    "visited = [False] * len(graph)\n",
    "\n",
    "# 파이썬에서 큐는 collections.deque를 사용하자. \n",
    "from collections import deque\n",
    "\n",
    "# 큐를 이용해 너비우선탐색을 구현한 함수\n",
    "def bfs(graph, start) :\n",
    "    # 큐(Queue) 구현을 위해 deque 라이브러리를 사용.\n",
    "    queue = deque([start])  # 큐에 시작 노드를 추가했음.\n",
    "\n",
    "    # 시작 노드를 방문처리\n",
    "    visited[start] = True\n",
    "\n",
    "    # 큐가 empty가 될 때까지, \n",
    "    # 큐에서 다음 노드를 꺼내고\n",
    "    # 그 노드를 출력하고, \n",
    "    # 그 노드의 모든 방문하지 않은 인접 노드를 방문처리하고 큐에 삽입하는 과정을 반복한다. \n",
    "   \n",
    "    while queue : # 큐에 empty가 될 때까지 반복을 수행한다. \n",
    "        # 큐에서 다음 노드를 꺼낸다. \n",
    "        node = queue.popleft()\n",
    "        # 큐에서 꺼낸 노드를 출력\n",
    "        print(node, end = \" \")\n",
    "        # 그 노드의 모든 방문하지 않은 인접 노드를 방문처리하고 큐에 삽입\n",
    "        for adjacent_node in graph[node] : \n",
    "            if not visited[adjacent_node] : # 방문하지 않은 인접 노드이면 \n",
    "                visited[adjacent_node] = True # 방문처리\n",
    "                queue.append(adjacent_node) # 큐에 삽입\n",
    "\n",
    "bfs(graph, 1)\n",
    "# 1 2 3 8 7 4 5 6  \n",
    "\n",
    "\n",
    "\n"
   ]
  },
  {
   "cell_type": "code",
   "execution_count": null,
   "metadata": {},
   "outputs": [],
   "source": []
  }
 ],
 "metadata": {
  "kernelspec": {
   "display_name": "Python 3",
   "language": "python",
   "name": "python3"
  },
  "language_info": {
   "codemirror_mode": {
    "name": "ipython",
    "version": 3
   },
   "file_extension": ".py",
   "mimetype": "text/x-python",
   "name": "python",
   "nbconvert_exporter": "python",
   "pygments_lexer": "ipython3",
   "version": "3.10.11"
  },
  "orig_nbformat": 4,
  "vscode": {
   "interpreter": {
    "hash": "3b7e9cb8e453d6cda0fe8c8dd13f891a1f09162f0e7c66ffeae7751a7aecf00d"
   }
  }
 },
 "nbformat": 4,
 "nbformat_minor": 2
}
