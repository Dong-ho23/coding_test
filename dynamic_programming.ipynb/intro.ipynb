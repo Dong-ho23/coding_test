{
 "cells": [
  {
   "attachments": {},
   "cell_type": "markdown",
   "metadata": {},
   "source": [
    "# 피보나치 수열\n",
    "* f(n) = f(n-1) + f(n-2), ${1 \\le n}$, f(1) = 1, f(2) = 1"
   ]
  },
  {
   "cell_type": "code",
   "execution_count": 5,
   "metadata": {},
   "outputs": [
    {
     "name": "stdout",
     "output_type": "stream",
     "text": [
      "102334155\n"
     ]
    }
   ],
   "source": [
    "# 피보나치 함수를 재귀함수로 구현\n",
    "def fibo(n) :\n",
    "    if n == 1 or n == 2 :\n",
    "        return 1\n",
    "    \n",
    "    return fibo(n-1) + fibo(n-2)\n",
    "\n",
    "print(fibo(40))"
   ]
  },
  {
   "attachments": {},
   "cell_type": "markdown",
   "metadata": {},
   "source": [
    "* fibo(5) = fibo(4) + fibo(3)\n",
    "* fibo(4) = fibo(3) + fibo(2)\n",
    "* fibo(3) = fibo(2) + fibo(1)\n",
    "  * fibo(2) = 1, fibo(1) = 1, fibo(3) = 2, fibo(4) = 3, fibo(5) = 3+2 = 5\n",
    "\n",
    "* fibo(6) = fibo(5) + fibo(4) = 5 + 3 = 8"
   ]
  },
  {
   "attachments": {},
   "cell_type": "markdown",
   "metadata": {},
   "source": [
    "## 다이나믹 프로그래밍은 다음 조건을 만족할 때 사용할 수 있다. \n",
    "* 1. 큰 문제를 작은 문제로 나눌 수 있다. \n",
    "* 2. 작은 문제에서 구한 정답은 그것을 포함하는 큰 문제에서도 동일하다. "
   ]
  },
  {
   "attachments": {},
   "cell_type": "markdown",
   "metadata": {},
   "source": [
    "* 피모나치 수열은 위의 조건을 맞고하는 대표 문제이다. \n",
    "* 이 문제를 메모이제이션(Memoization) 기법을 사용해서 해결해 보자. \n",
    "* 다음 시간에 (5월 24일 수요일)\n",
    "* 메모이제이션은 다이나믹 프로그래밍을 구현하는 방법 중 한 종류로, 한 번 구한 결과를 메모리 공간에 메모해두고 같은 식을 다시 호출하면 메모한 결과를 가져오는 기법을 의미한다. \n",
    "* 메모이제이션은 값을 저장하는 방법이므로 캐싱(caching) 이라고도 한다. \n",
    "* 다이나믹 프로그램이란 큰 문제를 작게 나누고, 같은 문제라면 한 번씩만 풀어 문제를 효율적으로 해결하는 알고리즘 기법이다. \n",
    "* 다이나믹 프로그래밍과 분할 정복의 차이점은 다이나믹 프로그래밍은 문제들이 서로 영향을 미치고 있다는 점이다. "
   ]
  },
  {
   "cell_type": "code",
   "execution_count": 7,
   "metadata": {},
   "outputs": [
    {
     "name": "stdout",
     "output_type": "stream",
     "text": [
      "354224848179261915075\n"
     ]
    }
   ],
   "source": [
    "# 구하고자 하는 피보나치 수열의 최대값은 100이라고 가정하자. \n",
    "memo = [0] * 101  # 이미 구한 피보나치 수열 값을 저장할 리스트를 0으로 초기화. \n",
    "\n",
    "# 피보나치 함수를 재귀함수로 구현\n",
    "def fibo(n) :\n",
    "    if n == 1 or n == 2 :\n",
    "        return 1\n",
    "    # fobo(n)의 값이 이미 구해져 있는지를 검사하고, 이미 있다면 계산없이 그 값을 반환\n",
    "    if memo[n] != 0 : # 메모해둔 피보나치 수열 n의 값이 이미 존재하면 그 값을 반환하자. 다시 계산하지 말고.\n",
    "        return memo[n]\n",
    "    \n",
    "    # 실행 흐림이 여기까지 온다는 것은 기억해둔 값이 없다는 것이니, 계산을 하자. \n",
    "    memo[n] = fibo(n-1) + fibo(n-2)  \n",
    "\n",
    "    return memo[n]\n",
    "print(fibo(100))\n",
    "# fibo(7) = fibo(6) + fibo(5) = 8 + 5, memo[7] = 13\n",
    "# fibo(6) = fibo(5) + fibo(4) = 5 + 3 , memo[6] = 8\n",
    "# fibo(5) = fibo(4) + fibo(3) = 3 + 2 , memo[5] = 5\n",
    "# fibo(4) = fibo(3) + fibo(2) = 2 + 1, memo[4] = 3\n",
    "# fibo(3) = fibo(2) + fibo(1) = 1 + 1 , memo[3] = 2\n",
    "# fibo(2) = 1 \n"
   ]
  },
  {
   "attachments": {},
   "cell_type": "markdown",
   "metadata": {},
   "source": [
    "# Top Down (하향식 풀이) => 재귀 함수를 이용해 구현\n",
    "* f(6) = f(5) + f(4)\n",
    "* f(5) = f(4) + f(3)\n",
    "* f(4) = f(3) + f(2)\n",
    "* f(3) = f(2) + f(1)\n",
    "\n",
    "\n",
    "# Bottom up (상향식 풀이) => 반복문을 이용해 구현 (이 방법이 더 효율적이다. )\n",
    "* f(1), f(2) => f(3)\n",
    "* f(2), f(3) => f(4) \n",
    "* f(3), f(4) => f(5)\n",
    "* f(4), f(5) => f(6)"
   ]
  },
  {
   "cell_type": "code",
   "execution_count": 12,
   "metadata": {},
   "outputs": [
    {
     "name": "stdout",
     "output_type": "stream",
     "text": [
      "354224848179261915075\n"
     ]
    }
   ],
   "source": [
    "# 구하고자 하는 피보나치 수열의 최대값은 100이라고 가정하자. \n",
    "memo = [0] * 101  # 이미 구한 피보나치 수열 값을 저장할 리스트를 0으로 초기화. \n",
    "\n",
    "memo[1] = 1 # 피보나치 수열 1\n",
    "memo[2] = 1 # 피보나치 수열 2\n",
    "# 피보나치 함수를 재귀함수로 구현\n",
    "# fibo(n)을 구하려면 fibo(1), fibo(2), fibo(3), ... fibo(n-1)을 구해야 한다. \n",
    "def fibo_bottom_up(n) :\n",
    "    for i in range(3, n+1) : # range(start, end)에서 start는 포함, end는 미포함. \n",
    "        memo[i] = memo[i-1] + memo[i-2]\n",
    "\n",
    "fibo_bottom_up(100)\n",
    "print(memo[100])"
   ]
  },
  {
   "attachments": {},
   "cell_type": "markdown",
   "metadata": {},
   "source": [
    "###  1로 만들기\n",
    "* 정수 X가 주어질 때 정수 X에 사용할 수 있는 연산은 다음고 같이 4가지이다. \n",
    "   * X가 5로 나누어떨어지면 5로 나눈다.\n",
    "   * X가 3으로 나누어떨어지면 3으로 나눈다. \n",
    "   * X가 2로 나누어떨어지면, 2로 나눈다. \n",
    "   * X 에서 1을 뺀다. \n",
    "* 정수 X가 주어졌을 때, 연산 4개를 적절히 사용해서 1을 만들려고 한다. \n",
    "* 연산을 사용하는 횟수의 최솟값을 출력하시오. \n",
    "* 예를 들어 정수가 26이면 다음과 같이 계산해서 3번의 연산이 최솟값이다. \n",
    "  * 1. 26-1 = 25\n",
    "  * 2. 25/5 = 5\n",
    "  * 3. 5/1 = 1\n",
    "* 입력조건 \n",
    "  * 첫째 줄에 정수 X가 주어진다. $(1 \\le X \\le 30,000)$\n",
    "* 출력조건\n",
    "  * 첫째 줄에 연산을 하는 횟수의 최솟값을 출력한다. \n",
    "* 입력 예시\n",
    "  * 26\n",
    "* 출력 예시 \n",
    "  * 3\n",
    "\n",
    "\n"
   ]
  },
  {
   "attachments": {},
   "cell_type": "markdown",
   "metadata": {},
   "source": [
    "* 위 문제를 풀기위한 점화식은 아래와 같다. \n",
    "  * f(n) = min(f(n-1), f(n/2), f(n/3), f(n/5)) + 1 \n",
    "    * winner = min(f(n-1)+1, f(n/2)+1)\n",
    "    * winner = min(winner, f(n/3)+1)\n",
    "    * winner = min(winner, f(n/5)+1)\n",
    "    * f(n) = winner"
   ]
  },
  {
   "cell_type": "code",
   "execution_count": 3,
   "metadata": {},
   "outputs": [
    {
     "name": "stdout",
     "output_type": "stream",
     "text": [
      "5\n"
     ]
    }
   ],
   "source": [
    "# 정수 X를 입력 받기\n",
    "x = int(input())\n",
    "\n",
    "# 메모이제이션을 위한 리스트를 생성하고 0으로 초기화\n",
    "# memo[4] <= 4를 1로 만들기 위해 수행해야 할 최소 연산 수를 저장\n",
    "# memo[89] <= 89를 1로 만들기 위해 수행해야 할 최소 연산 수를 저장. \n",
    "memo = [0] * (x+1)  # memo[x] <= x를 1로 만들기 위해 수행해야할 최소 연산 수를 저장. \n",
    "# memo[x]를 계산하려면 memo[x-1], memo[x/2], memo[x/3], memo[x/5] 이 값을 구해 그 중 최소값을 찾고 거기에 1을 더하면 된다. \n",
    "# 상향식으로 작은 문제를 해결하고 그 답을 이용해서 큰 문제를 해결하자. \n",
    "# 상향식은 일반적으로 반복문을 통해 구현할 수 있다.  memo[2], momo[3], memo[4], ...., memo[x-1], memo[x] 이 순서로 값을 구하면 된다. \n",
    "# memo[0]은 0, memo[1]은 0. \n",
    "\n",
    "for n in range(2, x+1) : # start 이상, end 미만까지 반복. 즉 n은 2에서 x까지 반복. \n",
    "    memo[n] = memo[n-1] + 1\n",
    "    if n%2 == 0 :\n",
    "        memo[n] = min(memo[n], memo[n//2]+1)\n",
    "    if n%3 == 0 :\n",
    "        memo[n] = min(memo[n], memo[n//3]+1) # memo[n//3] == memo[int(n/3)]\n",
    "    if n%5 == 0 :\n",
    "        memo[n] = min(memo[n], memo[n//5]+1)\n",
    "\n",
    "print(memo[x])\n"
   ]
  },
  {
   "cell_type": "code",
   "execution_count": null,
   "metadata": {},
   "outputs": [],
   "source": []
  }
 ],
 "metadata": {
  "kernelspec": {
   "display_name": "Python 3",
   "language": "python",
   "name": "python3"
  },
  "language_info": {
   "codemirror_mode": {
    "name": "ipython",
    "version": 3
   },
   "file_extension": ".py",
   "mimetype": "text/x-python",
   "name": "python",
   "nbconvert_exporter": "python",
   "pygments_lexer": "ipython3",
   "version": "3.10.11"
  },
  "orig_nbformat": 4
 },
 "nbformat": 4,
 "nbformat_minor": 2
}
