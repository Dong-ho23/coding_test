{
 "cells": [
  {
   "attachments": {},
   "cell_type": "markdown",
   "metadata": {},
   "source": [
    "###  1로 만들기\n",
    "* 정수 X가 주어질 때 정수 X에 사용할 수 있는 연산은 다음고 같이 4가지이다. \n",
    "   * X가 5로 나누어떨어지면 5로 나눈다.\n",
    "   * X가 3으로 나누어떨어지면 3으로 나눈다. \n",
    "   * X가 2로 나누어떨어지면, 2로 나눈다. \n",
    "   * X 에서 1을 뺀다. \n",
    "* 정수 X가 주어졌을 때, 연산 4개를 적절히 사용해서 1을 만들려고 한다. \n",
    "* 연산을 사용하는 횟수의 최솟값을 출력하시오. \n",
    "* 예를 들어 정수가 26이면 다음과 같이 계산해서 3번의 연산이 최솟값이다. \n",
    "  * 1. 26-1 = 25\n",
    "  * 2. 25/5 = 5\n",
    "  * 3. 5/1 = 1\n",
    "* 입력조건 \n",
    "  * 첫째 줄에 정수 X가 주어진다. $(1 \\le X \\le 30,000)$\n",
    "* 출력조건\n",
    "  * 첫째 줄에 연산을 하는 횟수의 최솟값을 출력한다. \n",
    "* 입력 예시\n",
    "  * 26\n",
    "* 출력 예시 \n",
    "  * 3\n"
   ]
  },
  {
   "attachments": {},
   "cell_type": "markdown",
   "metadata": {},
   "source": [
    "* 위 문제를 풀기위한 점화식은 아래와 같다. \n",
    "  * f(n) = min(f(n-1), f(n/2), f(n/3), f(n/5)) + 1 \n",
    "    * winner = min(f(n-1)+1, f(n/2)+1)\n",
    "    * winner = min(winner, f(n/3)+1)\n",
    "    * winner = min(winner, f(n/5)+1)\n",
    "    * f(n) = winner"
   ]
  },
  {
   "cell_type": "code",
   "execution_count": 1,
   "metadata": {},
   "outputs": [
    {
     "name": "stdout",
     "output_type": "stream",
     "text": [
      "2\n"
     ]
    }
   ],
   "source": [
    "# 정수 X를 입력 받기\n",
    "x = int(input())\n",
    "\n",
    "# 메모이제이션을 위한 리스트를 생성하고 0으로 초기화\n",
    "# memo[4] <= 4를 1로 만들기 위해 수행해야 할 최소 연산 수를 저장\n",
    "# memo[89] <= 89를 1로 만들기 위해 수행해야 할 최소 연산 수를 저장. \n",
    "memo = [0] * (x+1)  # memo[x] <= x를 1로 만들기 위해 수행해야할 최소 연산 수를 저장. \n",
    "# memo[x]를 계산하려면 memo[x-1], memo[x/2], memo[x/3], memo[x/5] 이 값을 구해 그 중 최소값을 찾고 거기에 1을 더하면 된다. \n",
    "# 상향식으로 작은 문제를 해결하고 그 답을 이용해서 큰 문제를 해결하자. \n",
    "# 상향식은 일반적으로 반복문을 통해 구현할 수 있다.  memo[2], momo[3], memo[4], ...., memo[x-1], memo[x] 이 순서로 값을 구하면 된다. \n",
    "# memo[0]은 0, memo[1]은 0. \n",
    "\n",
    "for n in range(2, x+1) : # start 이상, end 미만까지 반복. 즉 n은 2에서 x까지 반복. \n",
    "    memo[n] = memo[n-1] + 1\n",
    "    if n%2 == 0 :\n",
    "        memo[n] = min(memo[n], memo[n//2]+1)\n",
    "    if n%3 == 0 :\n",
    "        memo[n] = min(memo[n], memo[n//3]+1) # memo[n//3] == memo[int(n/3)]\n",
    "    if n%5 == 0 :\n",
    "        memo[n] = min(memo[n], memo[n//5]+1)\n",
    "\n",
    "print(memo[x])\n"
   ]
  },
  {
   "attachments": {},
   "cell_type": "markdown",
   "metadata": {},
   "source": [
    "## 개미 전사\n",
    "* 개미 전사는 부족한 식량을 충당하고자 메뚜기 마을의 식량창고를 몰래 공격하려고 한다. \n",
    "* 메뚜기 마을에는 여러 개의 식량창고가 있는데 식량창고는 일직선으로 이어져 있다. \n",
    "* 각 식량창고에는 정해진 수의 식량을 저장하고 있으며 개미 전사는 식량창고를 선택적으로 약탈하여 식량을 빼앗을 예정이다. \n",
    "* 이 때 메뚜기 정찰병들은 일직선상에 존재하는 식량창고 중에서 서로 인접한 식량창고가 공격받으면 바로 알아챌 수 있다. \n",
    "* 따라서 개미 전사가 정찰병에게 들키지 않고 식량창고를 약탈하기 위해서는 최소한 한 칸 이상 떨어진 식량창고를 약탈해야 한다. \n",
    "* 예를 들어 식량창고 4개가 다음과 같이 존재한다고 가정하자 \n",
    "  * [1, 3, 1, 5]\n",
    "  * 위의 경우 최대 약탈 식량은 8이다. \n",
    "* 입력 조건\n",
    "  * 첫째 줄에 식량창고의 개수 N이 주어진다. ($ 3\\le N \\le 100 $)\n",
    "  * 둘째 줄에 공백으로 구분되어 각 식량창고에 저장된 식량의 개수 K가 주어진다. ($ 0\\le K \\le 1,000 $)\n",
    "* 출력 조건\n",
    "  * 첫째 줄에 개미 전사가 얻을 수 있는 식량의 최댓값을 출력하시오. \n",
    "* 입력 예시\n",
    "    ```\n",
    "    4\n",
    "    1 3 1 5\n",
    "    ```\n",
    "* 출력 예시\n",
    "    ```\n",
    "    8\n",
    "    ```"
   ]
  },
  {
   "cell_type": "code",
   "execution_count": 4,
   "metadata": {},
   "outputs": [
    {
     "name": "stdout",
     "output_type": "stream",
     "text": [
      "9\n"
     ]
    }
   ],
   "source": [
    "# 메뚜기 마을의 식량창고의 수를 입력받는다\n",
    "n = int(input())\n",
    "\n",
    "# n개의 식량창고 각각에 들어있는 식량의 수를 입력받는다.\n",
    "food_in_warehouses = list(map(int, input().split()))\n",
    "\n",
    "# i번째 식량창고까지 약탈했을 때 얻을 수 있는 최대양을 memoization 하자. \n",
    "memo = [0] * (n+1)\n",
    "\n",
    "memo[1] = food_in_warehouses[0] # 첫번째 식량창고까지 왔을 때 약탈할 수 있는 최대 식량\n",
    "# 두번째 식량창고까지 왔을 때 약탈할 수 있는 최대 식량 : 첫번째 또는 두번째 식량창고만 약탈할 수 있다.\n",
    "# 그러니, 그 두 식량창고 중에서 더 많은 식량을 보관하고 있는 곳을 털면된다. \n",
    "memo[2] = max(food_in_warehouses[0], food_in_warehouses[1])    \n",
    "\n",
    "# 3번째 식량창고 부터는 점화식에 기반해서 반복문을 통해 구현하면 된다. \n",
    "# f(i) = max(f(i-2) + ki, f(i-1))\n",
    "for i in range(3, n+1) :\n",
    "    memo[i] = max(memo[i-2]+food_in_warehouses[i-1], memo[i-1])\n",
    "\n",
    "print(memo[n])\n",
    "                                "
   ]
  }
 ],
 "metadata": {
  "kernelspec": {
   "display_name": "Python 3",
   "language": "python",
   "name": "python3"
  },
  "language_info": {
   "codemirror_mode": {
    "name": "ipython",
    "version": 3
   },
   "file_extension": ".py",
   "mimetype": "text/x-python",
   "name": "python",
   "nbconvert_exporter": "python",
   "pygments_lexer": "ipython3",
   "version": "3.10.11"
  },
  "orig_nbformat": 4
 },
 "nbformat": 4,
 "nbformat_minor": 2
}
